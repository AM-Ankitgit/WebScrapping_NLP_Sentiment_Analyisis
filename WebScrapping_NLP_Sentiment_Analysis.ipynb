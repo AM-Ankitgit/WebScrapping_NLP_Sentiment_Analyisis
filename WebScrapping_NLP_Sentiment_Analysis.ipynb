{
 "cells": [
  {
   "cell_type": "markdown",
   "id": "e3250c03",
   "metadata": {},
   "source": [
    "# Import All Required Dependencies"
   ]
  },
  {
   "cell_type": "code",
   "execution_count": 8,
   "id": "884f91a8",
   "metadata": {
    "executionInfo": {
     "elapsed": 390,
     "status": "ok",
     "timestamp": 1675731160408,
     "user": {
      "displayName": "ankit mahalle",
      "userId": "07934102268797028998"
     },
     "user_tz": -330
    },
    "id": "884f91a8"
   },
   "outputs": [],
   "source": [
    "import requests\n",
    "import re\n",
    "import nltk\n",
    "from nltk.sentiment import SentimentIntensityAnalyzer\n",
    "from nltk.corpus import stopwords\n",
    "import nltk\n",
    "from bs4 import BeautifulSoup\n",
    "from nltk.corpus import cmudict\n",
    "from nltk.tokenize import sent_tokenize, word_tokenize\n",
    "from textblob import TextBlob\n",
    "from string import punctuation\n",
    "from unidecode import unidecode\n",
    "import contractions\n",
    "import pandas as pd "
   ]
  },
  {
   "cell_type": "markdown",
   "id": "3744316a",
   "metadata": {},
   "source": [
    "# Data Collection"
   ]
  },
  {
   "cell_type": "code",
   "execution_count": 10,
   "id": "e2c2ded9",
   "metadata": {},
   "outputs": [
    {
     "data": {
      "text/html": [
       "<div>\n",
       "<style scoped>\n",
       "    .dataframe tbody tr th:only-of-type {\n",
       "        vertical-align: middle;\n",
       "    }\n",
       "\n",
       "    .dataframe tbody tr th {\n",
       "        vertical-align: top;\n",
       "    }\n",
       "\n",
       "    .dataframe thead th {\n",
       "        text-align: right;\n",
       "    }\n",
       "</style>\n",
       "<table border=\"1\" class=\"dataframe\">\n",
       "  <thead>\n",
       "    <tr style=\"text-align: right;\">\n",
       "      <th></th>\n",
       "      <th>URL_ID</th>\n",
       "      <th>URL</th>\n",
       "    </tr>\n",
       "  </thead>\n",
       "  <tbody>\n",
       "    <tr>\n",
       "      <th>17</th>\n",
       "      <td>54</td>\n",
       "      <td>https://insights.blackcoffer.com/all-you-need-...</td>\n",
       "    </tr>\n",
       "    <tr>\n",
       "      <th>21</th>\n",
       "      <td>58</td>\n",
       "      <td>https://insights.blackcoffer.com/environmental...</td>\n",
       "    </tr>\n",
       "    <tr>\n",
       "      <th>3</th>\n",
       "      <td>40</td>\n",
       "      <td>https://insights.blackcoffer.com/will-machine-...</td>\n",
       "    </tr>\n",
       "    <tr>\n",
       "      <th>104</th>\n",
       "      <td>141</td>\n",
       "      <td>https://insights.blackcoffer.com/impact-of-cov...</td>\n",
       "    </tr>\n",
       "    <tr>\n",
       "      <th>69</th>\n",
       "      <td>106</td>\n",
       "      <td>https://insights.blackcoffer.com/contribution-...</td>\n",
       "    </tr>\n",
       "  </tbody>\n",
       "</table>\n",
       "</div>"
      ],
      "text/plain": [
       "     URL_ID                                                URL\n",
       "17       54  https://insights.blackcoffer.com/all-you-need-...\n",
       "21       58  https://insights.blackcoffer.com/environmental...\n",
       "3        40  https://insights.blackcoffer.com/will-machine-...\n",
       "104     141  https://insights.blackcoffer.com/impact-of-cov...\n",
       "69      106  https://insights.blackcoffer.com/contribution-..."
      ]
     },
     "execution_count": 10,
     "metadata": {},
     "output_type": "execute_result"
    }
   ],
   "source": [
    "df=pd.read_excel(\"/content/sample_data/Input.xlsx\")\n",
    "df.sample(5)"
   ]
  },
  {
   "cell_type": "markdown",
   "id": "e7e99d52",
   "metadata": {},
   "source": [
    "# Create Function To Perform Text Analysis "
   ]
  },
  {
   "cell_type": "markdown",
   "id": "01ec1ae0",
   "metadata": {},
   "source": [
    "### 1) Count Syllables Word"
   ]
  },
  {
   "cell_type": "code",
   "execution_count": 38,
   "id": "88882b0f",
   "metadata": {
    "executionInfo": {
     "elapsed": 383,
     "status": "ok",
     "timestamp": 1675731164400,
     "user": {
      "displayName": "ankit mahalle",
      "userId": "07934102268797028998"
     },
     "user_tz": -330
    },
    "id": "88882b0f"
   },
   "outputs": [],
   "source": [
    "def count_syllables(word):\n",
    "    d = cmudict.dict()\n",
    "    try:\n",
    "        return [len(list(y for y in x if y[-1].isdigit())) for x in d[word.lower()]][0]\n",
    "    except KeyError:\n",
    "        return 0"
   ]
  },
  {
   "cell_type": "markdown",
   "id": "009ae070",
   "metadata": {},
   "source": [
    "### 2)Count Complex Words"
   ]
  },
  {
   "cell_type": "code",
   "execution_count": 39,
   "id": "5bab5f9a",
   "metadata": {
    "executionInfo": {
     "elapsed": 4,
     "status": "ok",
     "timestamp": 1675731166243,
     "user": {
      "displayName": "ankit mahalle",
      "userId": "07934102268797028998"
     },
     "user_tz": -330
    },
    "id": "5bab5f9a"
   },
   "outputs": [],
   "source": [
    "def count_complex_words(text):\n",
    "    words = word_tokenize(text)\n",
    "    count = 0\n",
    "    for word in words:\n",
    "        syllables = count_syllables(word)\n",
    "        if syllables is not None and syllables >= 3:\n",
    "            count += 1\n",
    "    return count"
   ]
  },
  {
   "cell_type": "markdown",
   "id": "0aaf692e",
   "metadata": {},
   "source": [
    "### 3)Count Words"
   ]
  },
  {
   "cell_type": "code",
   "execution_count": 40,
   "id": "c321b94b",
   "metadata": {
    "executionInfo": {
     "elapsed": 397,
     "status": "ok",
     "timestamp": 1675731168396,
     "user": {
      "displayName": "ankit mahalle",
      "userId": "07934102268797028998"
     },
     "user_tz": -330
    },
    "id": "c321b94b"
   },
   "outputs": [],
   "source": [
    "def count_words(text):\n",
    "    words = word_tokenize(text)\n",
    "    return len(words)"
   ]
  },
  {
   "cell_type": "markdown",
   "id": "6951bd8b",
   "metadata": {},
   "source": [
    "### 4)Average Word Length"
   ]
  },
  {
   "cell_type": "code",
   "execution_count": 41,
   "id": "26981ba5",
   "metadata": {
    "executionInfo": {
     "elapsed": 2,
     "status": "ok",
     "timestamp": 1675731170541,
     "user": {
      "displayName": "ankit mahalle",
      "userId": "07934102268797028998"
     },
     "user_tz": -330
    },
    "id": "26981ba5"
   },
   "outputs": [],
   "source": [
    "def average_word_length(text):\n",
    "    words = word_tokenize(text)\n",
    "    total_length = 0\n",
    "    for word in words:\n",
    "        total_length += len(word)\n",
    "    return total_length / len(words)"
   ]
  },
  {
   "cell_type": "markdown",
   "id": "7b54b6bd",
   "metadata": {},
   "source": [
    "### 5)Fog Index"
   ]
  },
  {
   "cell_type": "code",
   "execution_count": 42,
   "id": "4e03c1ef",
   "metadata": {
    "executionInfo": {
     "elapsed": 383,
     "status": "ok",
     "timestamp": 1675731172492,
     "user": {
      "displayName": "ankit mahalle",
      "userId": "07934102268797028998"
     },
     "user_tz": -330
    },
    "id": "4e03c1ef"
   },
   "outputs": [],
   "source": [
    "def fog_index(text):\n",
    "    sentences = sent_tokenize(text)\n",
    "    words = word_tokenize(text)\n",
    "    avg_sent_len = len(words) / len(sentences)\n",
    "    complex_word_percent = count_complex_words(text) / len(words)\n",
    "    fog = 0.4 * (avg_sent_len + 100 * complex_word_percent)\n",
    "    return fog"
   ]
  },
  {
   "cell_type": "markdown",
   "id": "8e7a61e2",
   "metadata": {},
   "source": [
    "### 6)Personal Pronouns"
   ]
  },
  {
   "cell_type": "code",
   "execution_count": 43,
   "id": "25d23dbb",
   "metadata": {
    "executionInfo": {
     "elapsed": 374,
     "status": "ok",
     "timestamp": 1675731175825,
     "user": {
      "displayName": "ankit mahalle",
      "userId": "07934102268797028998"
     },
     "user_tz": -330
    },
    "id": "25d23dbb"
   },
   "outputs": [],
   "source": [
    "def personal_pronouns(text):\n",
    "    words = word_tokenize(text)\n",
    "    count = 0\n",
    "    personal_pronouns = ['I','Me','You','He','Him','She','Her','It','We','Us','They','Them','Mine','Yours','His','Hers','Its','Ours','Theirs','Myself','Yourself','Himself','Herself','Itself','Ourselves','Themselves']\n",
    "    for word in words:\n",
    "        if word.lower() in personal_pronouns:\n",
    "            count += 1\n",
    "    return count"
   ]
  },
  {
   "cell_type": "markdown",
   "id": "66d2923e",
   "metadata": {},
   "source": [
    "# Data Cleaning"
   ]
  },
  {
   "cell_type": "markdown",
   "id": "241288d6",
   "metadata": {},
   "source": [
    "### 1)Remove Space"
   ]
  },
  {
   "cell_type": "code",
   "execution_count": 44,
   "id": "92efc9e2",
   "metadata": {
    "executionInfo": {
     "elapsed": 492,
     "status": "ok",
     "timestamp": 1675731178991,
     "user": {
      "displayName": "ankit mahalle",
      "userId": "07934102268797028998"
     },
     "user_tz": -330
    },
    "id": "92efc9e2"
   },
   "outputs": [],
   "source": [
    "def remove_space(data):\n",
    "    clean_text = data.replace('\\\\n',' ').replace('\\t',' ').replace('\\\\',\" \")\n",
    "    return clean_text\n"
   ]
  },
  {
   "cell_type": "markdown",
   "id": "10ac7c37",
   "metadata": {
    "id": "OHSRhJflY1zI"
   },
   "source": [
    "### 2)Get Expanded"
   ]
  },
  {
   "cell_type": "code",
   "execution_count": 45,
   "id": "354e9b7e",
   "metadata": {
    "executionInfo": {
     "elapsed": 3,
     "status": "ok",
     "timestamp": 1675731181643,
     "user": {
      "displayName": "ankit mahalle",
      "userId": "07934102268797028998"
     },
     "user_tz": -330
    },
    "id": "354e9b7e"
   },
   "outputs": [],
   "source": [
    "def get_expanded(data):\n",
    "    clean_text = contractions.fix(data)\n",
    "    return clean_text"
   ]
  },
  {
   "cell_type": "markdown",
   "id": "81dfbcf9",
   "metadata": {},
   "source": [
    "### 3)Get Handle Accented"
   ]
  },
  {
   "cell_type": "code",
   "execution_count": 46,
   "id": "96c36b51",
   "metadata": {
    "executionInfo": {
     "elapsed": 3,
     "status": "ok",
     "timestamp": 1675731184443,
     "user": {
      "displayName": "ankit mahalle",
      "userId": "07934102268797028998"
     },
     "user_tz": -330
    },
    "id": "96c36b51"
   },
   "outputs": [],
   "source": [
    "def get_handle_accented(data):\n",
    "    clean_text=unidecode(data)\n",
    "    return clean_text"
   ]
  },
  {
   "cell_type": "markdown",
   "id": "530d21c1",
   "metadata": {},
   "source": [
    "### 4)Remove HTML Tags"
   ]
  },
  {
   "cell_type": "code",
   "execution_count": 6,
   "id": "a1e64177",
   "metadata": {},
   "outputs": [],
   "source": [
    "def get_remove_tag(text):\n",
    "    text = re.sub(r'<.*?>', '', text)    # Remove HTML tags\n",
    "    text = re.sub(r'[^\\w\\s]', '', text)  # Remove special characters\n",
    "    return text"
   ]
  },
  {
   "cell_type": "markdown",
   "id": "1ad50e2a",
   "metadata": {},
   "source": [
    "### 5) Remove Stopword"
   ]
  },
  {
   "cell_type": "code",
   "execution_count": 47,
   "id": "c2dd6204",
   "metadata": {
    "executionInfo": {
     "elapsed": 393,
     "status": "ok",
     "timestamp": 1675731186878,
     "user": {
      "displayName": "ankit mahalle",
      "userId": "07934102268797028998"
     },
     "user_tz": -330
    },
    "id": "c2dd6204"
   },
   "outputs": [],
   "source": [
    "stopword_list = stopwords.words('english')\n",
    "stopword_list.remove('no')\n",
    "stopword_list.remove('nor')\n",
    "stopword_list.remove('not')\n",
    "\n",
    "def get_clean_data(data):\n",
    "    token= word_tokenize(data)\n",
    "    clean_text=[word.lower() for word in token if (word not in punctuation) and (word.lower() not in stopword_list) and (len(word)>2) and (word.isalpha())]\n",
    "    return clean_text\n"
   ]
  },
  {
   "cell_type": "markdown",
   "id": "b3f81d74",
   "metadata": {},
   "source": [
    "# Data Extraction And Text Analysis"
   ]
  },
  {
   "cell_type": "code",
   "execution_count": null,
   "id": "7e7bbe09",
   "metadata": {
    "colab": {
     "base_uri": "https://localhost:8080/",
     "height": 415
    },
    "executionInfo": {
     "elapsed": 20523574,
     "status": "error",
     "timestamp": 1675754636343,
     "user": {
      "displayName": "ankit mahalle",
      "userId": "07934102268797028998"
     },
     "user_tz": -330
    },
    "id": "7e7bbe09",
    "outputId": "4ed53b2d-1849-4317-f361-2df6716dbf34"
   },
   "outputs": [],
   "source": [
    "data = []                                #Store data in List\n",
    "for index, row in df.iterrows():\n",
    "    url = row[\"URL\"]\n",
    "    url_id = row[\"URL_ID\"]\n",
    "\n",
    "    \n",
    "    page = requests.get(url)                            # Request the HTML page\n",
    "    soup = BeautifulSoup(page.content, \"html.parser\")\n",
    "\n",
    "    \n",
    "    title = soup.find(\"title\").get_text()               # Extract the article title and text\n",
    "    text = soup.find(\"article\").get_text()\n",
    "    \n",
    "    \n",
    "    clean_space= remove_space(text)                     \n",
    "    expanded_text=get_expanded(clean_space)\n",
    "    accented_clean = get_handle_accented(expanded_text)   # Calling function \n",
    "                                                          # To perfom Data cleaning\n",
    "    remove_tag =get_remove_tag(accented_clean)\n",
    "    text_clean = get_clean_data(remove_tag)\n",
    "    text = \", \".join(text_clean)\n",
    "\n",
    "\n",
    "    \n",
    "    with open(f\"{url_id}.txt\", \"w\") as file:\n",
    "        file.write(title + \"\\n\\n\" + \"\".join(text))      # Save the Clean article to text file\n",
    "        \n",
    "        \n",
    "    blob = TextBlob(text)                               # for text processing used TextBlob Library and perform sentiment analysis\n",
    "    sentiment = SentimentIntensityAnalyzer().polarity_scores(text)\n",
    "\n",
    "    \n",
    "    # Calculate  all the Variable\n",
    "    \n",
    "    result = {\n",
    "        \"URL_ID\": url_id,\n",
    "        \"URL\":url,\n",
    "        \"Positive_Score\": sentiment['pos'],\n",
    "        \"Negative_Score\": sentiment['neg'],\n",
    "        \"Polarity_Score\": sentiment['compound'],\n",
    "        \"Subjectivity_Score\": blob.sentiment.subjectivity,\n",
    "        \"Avg_Sentence_Length\": len(word_tokenize(text)) / len(sent_tokenize(text)),\n",
    "        \"Percent_Complex_Words\": count_complex_words(text) / count_words(text),\n",
    "        \"Fog_Index\": fog_index(text),\n",
    "        \"Avg_Num_Words_Per_Sentence\": count_words(text) / len(sent_tokenize(text)),\n",
    "        \"Complex_Word_Count\": count_complex_words(text),\n",
    "        \"Word_Count\": count_words(text),\n",
    "        \"Syllables_Per_Word\": sum(count_syllables(word) for word in word_tokenize(text)) / count_words(text),\n",
    "        \"Personal_Pronouns\": personal_pronouns(text),\n",
    "        \"Avg_Word_Length\": average_word_length(text)\n",
    "    }\n",
    "    \n",
    "    data.append(result)\n",
    "    print(url_id)\n",
    "    \n",
    "output_df = pd.DataFrame(data)  # Converted into the DataFrame"
   ]
  },
  {
   "cell_type": "code",
   "execution_count": 53,
   "id": "PKrcgIj3wsU4",
   "metadata": {
    "colab": {
     "base_uri": "https://localhost:8080/"
    },
    "executionInfo": {
     "elapsed": 6,
     "status": "ok",
     "timestamp": 1675754657360,
     "user": {
      "displayName": "ankit mahalle",
      "userId": "07934102268797028998"
     },
     "user_tz": -330
    },
    "id": "PKrcgIj3wsU4",
    "outputId": "f0effab3-11f4-4a2a-b883-14856c425e4c"
   },
   "outputs": [
    {
     "data": {
      "text/plain": [
       "[{'URL_ID': 37.0,\n",
       "  'URL': 'https://insights.blackcoffer.com/ai-in-healthcare-to-improve-patient-outcomes/',\n",
       "  'Positive_Score': 0.162,\n",
       "  'Negative_Score': 0.051,\n",
       "  'Polarity_Score': 0.9993,\n",
       "  'Subjectivity_Score': 0.44298277387234436,\n",
       "  'Avg_Sentence_Length': 2719.0,\n",
       "  'Percent_Complex_Words': 0.1677087164398676,\n",
       "  'Fog_Index': 1094.3083486575947,\n",
       "  'Avg_Num_Words_Per_Sentence': 2719.0,\n",
       "  'Complex_Word_Count': 456,\n",
       "  'Word_Count': 2719,\n",
       "  'Syllables_Per_Word': 1.0842221404928283,\n",
       "  'Personal_Pronouns': 0,\n",
       "  'Avg_Word_Length': 4.007355645457889},\n",
       " {'URL_ID': 38.0,\n",
       "  'URL': 'https://insights.blackcoffer.com/what-if-the-creation-is-taking-over-the-creator/',\n",
       "  'Positive_Score': 0.2,\n",
       "  'Negative_Score': 0.095,\n",
       "  'Polarity_Score': 0.9983,\n",
       "  'Subjectivity_Score': 0.40098011363636343,\n",
       "  'Avg_Sentence_Length': 1831.0,\n",
       "  'Percent_Complex_Words': 0.12889131622064445,\n",
       "  'Fog_Index': 737.5556526488258,\n",
       "  'Avg_Num_Words_Per_Sentence': 1831.0,\n",
       "  'Complex_Word_Count': 236,\n",
       "  'Word_Count': 1831,\n",
       "  'Syllables_Per_Word': 0.9699617695248498,\n",
       "  'Personal_Pronouns': 0,\n",
       "  'Avg_Word_Length': 3.7613326051338065}]"
      ]
     },
     "execution_count": 53,
     "metadata": {},
     "output_type": "execute_result"
    }
   ],
   "source": [
    "data"
   ]
  },
  {
   "cell_type": "markdown",
   "id": "d11e619d",
   "metadata": {
    "executionInfo": {
     "elapsed": 697,
     "status": "ok",
     "timestamp": 1675754715684,
     "user": {
      "displayName": "ankit mahalle",
      "userId": "07934102268797028998"
     },
     "user_tz": -330
    },
    "id": "55fa1e00"
   },
   "source": [
    "### Output of Our Text Analysis with each variable output"
   ]
  },
  {
   "cell_type": "code",
   "execution_count": 55,
   "id": "C5l3ubBKw8rh",
   "metadata": {
    "colab": {
     "base_uri": "https://localhost:8080/",
     "height": 211
    },
    "executionInfo": {
     "elapsed": 656,
     "status": "ok",
     "timestamp": 1675754737032,
     "user": {
      "displayName": "ankit mahalle",
      "userId": "07934102268797028998"
     },
     "user_tz": -330
    },
    "id": "C5l3ubBKw8rh",
    "outputId": "70dafc64-bb1f-461e-a5bb-64bb8e8d8c03"
   },
   "outputs": [
    {
     "data": {
      "text/html": [
       "\n",
       "  <div id=\"df-ec0efc2a-3108-4228-9f6a-109d89d431b8\">\n",
       "    <div class=\"colab-df-container\">\n",
       "      <div>\n",
       "<style scoped>\n",
       "    .dataframe tbody tr th:only-of-type {\n",
       "        vertical-align: middle;\n",
       "    }\n",
       "\n",
       "    .dataframe tbody tr th {\n",
       "        vertical-align: top;\n",
       "    }\n",
       "\n",
       "    .dataframe thead th {\n",
       "        text-align: right;\n",
       "    }\n",
       "</style>\n",
       "<table border=\"1\" class=\"dataframe\">\n",
       "  <thead>\n",
       "    <tr style=\"text-align: right;\">\n",
       "      <th></th>\n",
       "      <th>URL_ID</th>\n",
       "      <th>URL</th>\n",
       "      <th>Positive_Score</th>\n",
       "      <th>Negative_Score</th>\n",
       "      <th>Polarity_Score</th>\n",
       "      <th>Subjectivity_Score</th>\n",
       "      <th>Avg_Sentence_Length</th>\n",
       "      <th>Percent_Complex_Words</th>\n",
       "      <th>Fog_Index</th>\n",
       "      <th>Avg_Num_Words_Per_Sentence</th>\n",
       "      <th>Complex_Word_Count</th>\n",
       "      <th>Word_Count</th>\n",
       "      <th>Syllables_Per_Word</th>\n",
       "      <th>Personal_Pronouns</th>\n",
       "      <th>Avg_Word_Length</th>\n",
       "    </tr>\n",
       "  </thead>\n",
       "  <tbody>\n",
       "    <tr>\n",
       "      <th>0</th>\n",
       "      <td>37.0</td>\n",
       "      <td>https://insights.blackcoffer.com/ai-in-healthc...</td>\n",
       "      <td>0.162</td>\n",
       "      <td>0.051</td>\n",
       "      <td>0.9993</td>\n",
       "      <td>0.442983</td>\n",
       "      <td>2719.0</td>\n",
       "      <td>0.167709</td>\n",
       "      <td>1094.308349</td>\n",
       "      <td>2719.0</td>\n",
       "      <td>456</td>\n",
       "      <td>2719</td>\n",
       "      <td>1.084222</td>\n",
       "      <td>0</td>\n",
       "      <td>4.007356</td>\n",
       "    </tr>\n",
       "    <tr>\n",
       "      <th>1</th>\n",
       "      <td>38.0</td>\n",
       "      <td>https://insights.blackcoffer.com/what-if-the-c...</td>\n",
       "      <td>0.200</td>\n",
       "      <td>0.095</td>\n",
       "      <td>0.9983</td>\n",
       "      <td>0.400980</td>\n",
       "      <td>1831.0</td>\n",
       "      <td>0.128891</td>\n",
       "      <td>737.555653</td>\n",
       "      <td>1831.0</td>\n",
       "      <td>236</td>\n",
       "      <td>1831</td>\n",
       "      <td>0.969962</td>\n",
       "      <td>0</td>\n",
       "      <td>3.761333</td>\n",
       "    </tr>\n",
       "  </tbody>\n",
       "</table>\n",
       "</div>\n",
       "      <button class=\"colab-df-convert\" onclick=\"convertToInteractive('df-ec0efc2a-3108-4228-9f6a-109d89d431b8')\"\n",
       "              title=\"Convert this dataframe to an interactive table.\"\n",
       "              style=\"display:none;\">\n",
       "        \n",
       "  <svg xmlns=\"http://www.w3.org/2000/svg\" height=\"24px\"viewBox=\"0 0 24 24\"\n",
       "       width=\"24px\">\n",
       "    <path d=\"M0 0h24v24H0V0z\" fill=\"none\"/>\n",
       "    <path d=\"M18.56 5.44l.94 2.06.94-2.06 2.06-.94-2.06-.94-.94-2.06-.94 2.06-2.06.94zm-11 1L8.5 8.5l.94-2.06 2.06-.94-2.06-.94L8.5 2.5l-.94 2.06-2.06.94zm10 10l.94 2.06.94-2.06 2.06-.94-2.06-.94-.94-2.06-.94 2.06-2.06.94z\"/><path d=\"M17.41 7.96l-1.37-1.37c-.4-.4-.92-.59-1.43-.59-.52 0-1.04.2-1.43.59L10.3 9.45l-7.72 7.72c-.78.78-.78 2.05 0 2.83L4 21.41c.39.39.9.59 1.41.59.51 0 1.02-.2 1.41-.59l7.78-7.78 2.81-2.81c.8-.78.8-2.07 0-2.86zM5.41 20L4 18.59l7.72-7.72 1.47 1.35L5.41 20z\"/>\n",
       "  </svg>\n",
       "      </button>\n",
       "      \n",
       "  <style>\n",
       "    .colab-df-container {\n",
       "      display:flex;\n",
       "      flex-wrap:wrap;\n",
       "      gap: 12px;\n",
       "    }\n",
       "\n",
       "    .colab-df-convert {\n",
       "      background-color: #E8F0FE;\n",
       "      border: none;\n",
       "      border-radius: 50%;\n",
       "      cursor: pointer;\n",
       "      display: none;\n",
       "      fill: #1967D2;\n",
       "      height: 32px;\n",
       "      padding: 0 0 0 0;\n",
       "      width: 32px;\n",
       "    }\n",
       "\n",
       "    .colab-df-convert:hover {\n",
       "      background-color: #E2EBFA;\n",
       "      box-shadow: 0px 1px 2px rgba(60, 64, 67, 0.3), 0px 1px 3px 1px rgba(60, 64, 67, 0.15);\n",
       "      fill: #174EA6;\n",
       "    }\n",
       "\n",
       "    [theme=dark] .colab-df-convert {\n",
       "      background-color: #3B4455;\n",
       "      fill: #D2E3FC;\n",
       "    }\n",
       "\n",
       "    [theme=dark] .colab-df-convert:hover {\n",
       "      background-color: #434B5C;\n",
       "      box-shadow: 0px 1px 3px 1px rgba(0, 0, 0, 0.15);\n",
       "      filter: drop-shadow(0px 1px 2px rgba(0, 0, 0, 0.3));\n",
       "      fill: #FFFFFF;\n",
       "    }\n",
       "  </style>\n",
       "\n",
       "      <script>\n",
       "        const buttonEl =\n",
       "          document.querySelector('#df-ec0efc2a-3108-4228-9f6a-109d89d431b8 button.colab-df-convert');\n",
       "        buttonEl.style.display =\n",
       "          google.colab.kernel.accessAllowed ? 'block' : 'none';\n",
       "\n",
       "        async function convertToInteractive(key) {\n",
       "          const element = document.querySelector('#df-ec0efc2a-3108-4228-9f6a-109d89d431b8');\n",
       "          const dataTable =\n",
       "            await google.colab.kernel.invokeFunction('convertToInteractive',\n",
       "                                                     [key], {});\n",
       "          if (!dataTable) return;\n",
       "\n",
       "          const docLinkHtml = 'Like what you see? Visit the ' +\n",
       "            '<a target=\"_blank\" href=https://colab.research.google.com/notebooks/data_table.ipynb>data table notebook</a>'\n",
       "            + ' to learn more about interactive tables.';\n",
       "          element.innerHTML = '';\n",
       "          dataTable['output_type'] = 'display_data';\n",
       "          await google.colab.output.renderOutput(dataTable, element);\n",
       "          const docLink = document.createElement('div');\n",
       "          docLink.innerHTML = docLinkHtml;\n",
       "          element.appendChild(docLink);\n",
       "        }\n",
       "      </script>\n",
       "    </div>\n",
       "  </div>\n",
       "  "
      ],
      "text/plain": [
       "   URL_ID                                                URL  Positive_Score  \\\n",
       "0    37.0  https://insights.blackcoffer.com/ai-in-healthc...           0.162   \n",
       "1    38.0  https://insights.blackcoffer.com/what-if-the-c...           0.200   \n",
       "\n",
       "   Negative_Score  Polarity_Score  Subjectivity_Score  Avg_Sentence_Length  \\\n",
       "0           0.051          0.9993            0.442983               2719.0   \n",
       "1           0.095          0.9983            0.400980               1831.0   \n",
       "\n",
       "   Percent_Complex_Words    Fog_Index  Avg_Num_Words_Per_Sentence  \\\n",
       "0               0.167709  1094.308349                      2719.0   \n",
       "1               0.128891   737.555653                      1831.0   \n",
       "\n",
       "   Complex_Word_Count  Word_Count  Syllables_Per_Word  Personal_Pronouns  \\\n",
       "0                 456        2719            1.084222                  0   \n",
       "1                 236        1831            0.969962                  0   \n",
       "\n",
       "   Avg_Word_Length  \n",
       "0         4.007356  \n",
       "1         3.761333  "
      ]
     },
     "execution_count": 55,
     "metadata": {},
     "output_type": "execute_result"
    }
   ],
   "source": [
    "output_df"
   ]
  },
  {
   "cell_type": "markdown",
   "id": "1493c1d9",
   "metadata": {},
   "source": [
    "# Convert DataFrame into excel File without index"
   ]
  },
  {
   "cell_type": "code",
   "execution_count": 57,
   "id": "EDMwviSfMpIO",
   "metadata": {
    "executionInfo": {
     "elapsed": 565,
     "status": "ok",
     "timestamp": 1675754984350,
     "user": {
      "displayName": "ankit mahalle",
      "userId": "07934102268797028998"
     },
     "user_tz": -330
    },
    "id": "EDMwviSfMpIO"
   },
   "outputs": [],
   "source": [
    "output_df.to_excel(\"Output(Ankit_Mahalle).xlsx\",index=False)"
   ]
  },
  {
   "cell_type": "code",
   "execution_count": null,
   "id": "9iqimgKaN5nD",
   "metadata": {
    "colab": {
     "base_uri": "https://localhost:8080/"
    },
    "executionInfo": {
     "elapsed": 392,
     "status": "ok",
     "timestamp": 1675731138900,
     "user": {
      "displayName": "ankit mahalle",
      "userId": "07934102268797028998"
     },
     "user_tz": -330
    },
    "id": "9iqimgKaN5nD",
    "outputId": "dd4ffc7c-abb5-4860-aab8-cc6bfabddbe7"
   },
   "outputs": [],
   "source": []
  },
  {
   "cell_type": "code",
   "execution_count": null,
   "id": "da5cbb4b",
   "metadata": {},
   "outputs": [],
   "source": []
  }
 ],
 "metadata": {
  "colab": {
   "provenance": []
  },
  "kernelspec": {
   "display_name": "Python 3",
   "language": "python",
   "name": "python3"
  },
  "language_info": {
   "codemirror_mode": {
    "name": "ipython",
    "version": 3
   },
   "file_extension": ".py",
   "mimetype": "text/x-python",
   "name": "python",
   "nbconvert_exporter": "python",
   "pygments_lexer": "ipython3",
   "version": "3.8.8"
  }
 },
 "nbformat": 4,
 "nbformat_minor": 5
}
